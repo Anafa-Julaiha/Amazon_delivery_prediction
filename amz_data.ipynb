{
 "cells": [
  {
   "cell_type": "code",
   "execution_count": 6,
   "id": "2f929357",
   "metadata": {},
   "outputs": [],
   "source": [
    "import pandas as pd\n",
    "import numpy as np\n",
    "import matplotlib.pyplot as plt\n",
    "import seaborn as sns\n",
    "from sklearn.model_selection import train_test_split\n",
    "from sklearn.preprocessing import LabelEncoder, StandardScaler\n",
    "from sklearn.metrics import mean_absolute_error, mean_squared_error, r2_score\n",
    "from sklearn.linear_model import LinearRegression\n",
    "from sklearn.ensemble import RandomForestRegressor, GradientBoostingRegressor\n",
    "from geopy.distance import geodesic\n"
   ]
  },
  {
   "cell_type": "code",
   "execution_count": 8,
   "id": "19b9c643",
   "metadata": {},
   "outputs": [],
   "source": [
    "df = pd.read_csv('amazon_delivery.csv')"
   ]
  },
  {
   "cell_type": "code",
   "execution_count": 9,
   "id": "4f84ed2b",
   "metadata": {},
   "outputs": [
    {
     "data": {
      "text/html": [
       "<div>\n",
       "<style scoped>\n",
       "    .dataframe tbody tr th:only-of-type {\n",
       "        vertical-align: middle;\n",
       "    }\n",
       "\n",
       "    .dataframe tbody tr th {\n",
       "        vertical-align: top;\n",
       "    }\n",
       "\n",
       "    .dataframe thead th {\n",
       "        text-align: right;\n",
       "    }\n",
       "</style>\n",
       "<table border=\"1\" class=\"dataframe\">\n",
       "  <thead>\n",
       "    <tr style=\"text-align: right;\">\n",
       "      <th></th>\n",
       "      <th>Order_ID</th>\n",
       "      <th>Agent_Age</th>\n",
       "      <th>Agent_Rating</th>\n",
       "      <th>Store_Latitude</th>\n",
       "      <th>Store_Longitude</th>\n",
       "      <th>Drop_Latitude</th>\n",
       "      <th>Drop_Longitude</th>\n",
       "      <th>Order_Date</th>\n",
       "      <th>Order_Time</th>\n",
       "      <th>Pickup_Time</th>\n",
       "      <th>Weather</th>\n",
       "      <th>Traffic</th>\n",
       "      <th>Vehicle</th>\n",
       "      <th>Area</th>\n",
       "      <th>Delivery_Time</th>\n",
       "      <th>Category</th>\n",
       "    </tr>\n",
       "  </thead>\n",
       "  <tbody>\n",
       "    <tr>\n",
       "      <th>0</th>\n",
       "      <td>ialx566343618</td>\n",
       "      <td>37</td>\n",
       "      <td>4.9</td>\n",
       "      <td>22.745049</td>\n",
       "      <td>75.892471</td>\n",
       "      <td>22.765049</td>\n",
       "      <td>75.912471</td>\n",
       "      <td>2022-03-19</td>\n",
       "      <td>11:30:00</td>\n",
       "      <td>11:45:00</td>\n",
       "      <td>Sunny</td>\n",
       "      <td>High</td>\n",
       "      <td>motorcycle</td>\n",
       "      <td>Urban</td>\n",
       "      <td>120</td>\n",
       "      <td>Clothing</td>\n",
       "    </tr>\n",
       "    <tr>\n",
       "      <th>1</th>\n",
       "      <td>akqg208421122</td>\n",
       "      <td>34</td>\n",
       "      <td>4.5</td>\n",
       "      <td>12.913041</td>\n",
       "      <td>77.683237</td>\n",
       "      <td>13.043041</td>\n",
       "      <td>77.813237</td>\n",
       "      <td>2022-03-25</td>\n",
       "      <td>19:45:00</td>\n",
       "      <td>19:50:00</td>\n",
       "      <td>Stormy</td>\n",
       "      <td>Jam</td>\n",
       "      <td>scooter</td>\n",
       "      <td>Metropolitian</td>\n",
       "      <td>165</td>\n",
       "      <td>Electronics</td>\n",
       "    </tr>\n",
       "    <tr>\n",
       "      <th>2</th>\n",
       "      <td>njpu434582536</td>\n",
       "      <td>23</td>\n",
       "      <td>4.4</td>\n",
       "      <td>12.914264</td>\n",
       "      <td>77.678400</td>\n",
       "      <td>12.924264</td>\n",
       "      <td>77.688400</td>\n",
       "      <td>2022-03-19</td>\n",
       "      <td>08:30:00</td>\n",
       "      <td>08:45:00</td>\n",
       "      <td>Sandstorms</td>\n",
       "      <td>Low</td>\n",
       "      <td>motorcycle</td>\n",
       "      <td>Urban</td>\n",
       "      <td>130</td>\n",
       "      <td>Sports</td>\n",
       "    </tr>\n",
       "    <tr>\n",
       "      <th>3</th>\n",
       "      <td>rjto796129700</td>\n",
       "      <td>38</td>\n",
       "      <td>4.7</td>\n",
       "      <td>11.003669</td>\n",
       "      <td>76.976494</td>\n",
       "      <td>11.053669</td>\n",
       "      <td>77.026494</td>\n",
       "      <td>2022-04-05</td>\n",
       "      <td>18:00:00</td>\n",
       "      <td>18:10:00</td>\n",
       "      <td>Sunny</td>\n",
       "      <td>Medium</td>\n",
       "      <td>motorcycle</td>\n",
       "      <td>Metropolitian</td>\n",
       "      <td>105</td>\n",
       "      <td>Cosmetics</td>\n",
       "    </tr>\n",
       "    <tr>\n",
       "      <th>4</th>\n",
       "      <td>zguw716275638</td>\n",
       "      <td>32</td>\n",
       "      <td>4.6</td>\n",
       "      <td>12.972793</td>\n",
       "      <td>80.249982</td>\n",
       "      <td>13.012793</td>\n",
       "      <td>80.289982</td>\n",
       "      <td>2022-03-26</td>\n",
       "      <td>13:30:00</td>\n",
       "      <td>13:45:00</td>\n",
       "      <td>Cloudy</td>\n",
       "      <td>High</td>\n",
       "      <td>scooter</td>\n",
       "      <td>Metropolitian</td>\n",
       "      <td>150</td>\n",
       "      <td>Toys</td>\n",
       "    </tr>\n",
       "    <tr>\n",
       "      <th>...</th>\n",
       "      <td>...</td>\n",
       "      <td>...</td>\n",
       "      <td>...</td>\n",
       "      <td>...</td>\n",
       "      <td>...</td>\n",
       "      <td>...</td>\n",
       "      <td>...</td>\n",
       "      <td>...</td>\n",
       "      <td>...</td>\n",
       "      <td>...</td>\n",
       "      <td>...</td>\n",
       "      <td>...</td>\n",
       "      <td>...</td>\n",
       "      <td>...</td>\n",
       "      <td>...</td>\n",
       "      <td>...</td>\n",
       "    </tr>\n",
       "    <tr>\n",
       "      <th>43734</th>\n",
       "      <td>jlxf819993117</td>\n",
       "      <td>30</td>\n",
       "      <td>4.8</td>\n",
       "      <td>26.902328</td>\n",
       "      <td>75.794257</td>\n",
       "      <td>26.912328</td>\n",
       "      <td>75.804257</td>\n",
       "      <td>2022-03-24</td>\n",
       "      <td>11:35:00</td>\n",
       "      <td>11:45:00</td>\n",
       "      <td>Windy</td>\n",
       "      <td>High</td>\n",
       "      <td>motorcycle</td>\n",
       "      <td>Metropolitian</td>\n",
       "      <td>160</td>\n",
       "      <td>Home</td>\n",
       "    </tr>\n",
       "    <tr>\n",
       "      <th>43735</th>\n",
       "      <td>aevx342135787</td>\n",
       "      <td>21</td>\n",
       "      <td>4.6</td>\n",
       "      <td>0.000000</td>\n",
       "      <td>0.000000</td>\n",
       "      <td>0.070000</td>\n",
       "      <td>0.070000</td>\n",
       "      <td>2022-02-16</td>\n",
       "      <td>19:55:00</td>\n",
       "      <td>20:10:00</td>\n",
       "      <td>Windy</td>\n",
       "      <td>Jam</td>\n",
       "      <td>motorcycle</td>\n",
       "      <td>Metropolitian</td>\n",
       "      <td>180</td>\n",
       "      <td>Jewelry</td>\n",
       "    </tr>\n",
       "    <tr>\n",
       "      <th>43736</th>\n",
       "      <td>xnek760674819</td>\n",
       "      <td>30</td>\n",
       "      <td>4.9</td>\n",
       "      <td>13.022394</td>\n",
       "      <td>80.242439</td>\n",
       "      <td>13.052394</td>\n",
       "      <td>80.272439</td>\n",
       "      <td>2022-03-11</td>\n",
       "      <td>23:50:00</td>\n",
       "      <td>00:05:00</td>\n",
       "      <td>Cloudy</td>\n",
       "      <td>Low</td>\n",
       "      <td>scooter</td>\n",
       "      <td>Metropolitian</td>\n",
       "      <td>80</td>\n",
       "      <td>Home</td>\n",
       "    </tr>\n",
       "    <tr>\n",
       "      <th>43737</th>\n",
       "      <td>cynl434665991</td>\n",
       "      <td>20</td>\n",
       "      <td>4.7</td>\n",
       "      <td>11.001753</td>\n",
       "      <td>76.986241</td>\n",
       "      <td>11.041753</td>\n",
       "      <td>77.026241</td>\n",
       "      <td>2022-03-07</td>\n",
       "      <td>13:35:00</td>\n",
       "      <td>13:40:00</td>\n",
       "      <td>Cloudy</td>\n",
       "      <td>High</td>\n",
       "      <td>motorcycle</td>\n",
       "      <td>Metropolitian</td>\n",
       "      <td>130</td>\n",
       "      <td>Kitchen</td>\n",
       "    </tr>\n",
       "    <tr>\n",
       "      <th>43738</th>\n",
       "      <td>nsyz997960170</td>\n",
       "      <td>23</td>\n",
       "      <td>4.9</td>\n",
       "      <td>23.351058</td>\n",
       "      <td>85.325731</td>\n",
       "      <td>23.431058</td>\n",
       "      <td>85.405731</td>\n",
       "      <td>2022-03-02</td>\n",
       "      <td>17:10:00</td>\n",
       "      <td>17:15:00</td>\n",
       "      <td>Fog</td>\n",
       "      <td>Medium</td>\n",
       "      <td>scooter</td>\n",
       "      <td>Metropolitian</td>\n",
       "      <td>180</td>\n",
       "      <td>Cosmetics</td>\n",
       "    </tr>\n",
       "  </tbody>\n",
       "</table>\n",
       "<p>43739 rows × 16 columns</p>\n",
       "</div>"
      ],
      "text/plain": [
       "            Order_ID  Agent_Age  Agent_Rating  Store_Latitude  \\\n",
       "0      ialx566343618         37           4.9       22.745049   \n",
       "1      akqg208421122         34           4.5       12.913041   \n",
       "2      njpu434582536         23           4.4       12.914264   \n",
       "3      rjto796129700         38           4.7       11.003669   \n",
       "4      zguw716275638         32           4.6       12.972793   \n",
       "...              ...        ...           ...             ...   \n",
       "43734  jlxf819993117         30           4.8       26.902328   \n",
       "43735  aevx342135787         21           4.6        0.000000   \n",
       "43736  xnek760674819         30           4.9       13.022394   \n",
       "43737  cynl434665991         20           4.7       11.001753   \n",
       "43738  nsyz997960170         23           4.9       23.351058   \n",
       "\n",
       "       Store_Longitude  Drop_Latitude  Drop_Longitude  Order_Date Order_Time  \\\n",
       "0            75.892471      22.765049       75.912471  2022-03-19   11:30:00   \n",
       "1            77.683237      13.043041       77.813237  2022-03-25   19:45:00   \n",
       "2            77.678400      12.924264       77.688400  2022-03-19   08:30:00   \n",
       "3            76.976494      11.053669       77.026494  2022-04-05   18:00:00   \n",
       "4            80.249982      13.012793       80.289982  2022-03-26   13:30:00   \n",
       "...                ...            ...             ...         ...        ...   \n",
       "43734        75.794257      26.912328       75.804257  2022-03-24   11:35:00   \n",
       "43735         0.000000       0.070000        0.070000  2022-02-16   19:55:00   \n",
       "43736        80.242439      13.052394       80.272439  2022-03-11   23:50:00   \n",
       "43737        76.986241      11.041753       77.026241  2022-03-07   13:35:00   \n",
       "43738        85.325731      23.431058       85.405731  2022-03-02   17:10:00   \n",
       "\n",
       "      Pickup_Time     Weather  Traffic      Vehicle            Area  \\\n",
       "0        11:45:00       Sunny    High   motorcycle           Urban    \n",
       "1        19:50:00      Stormy     Jam      scooter   Metropolitian    \n",
       "2        08:45:00  Sandstorms     Low   motorcycle           Urban    \n",
       "3        18:10:00       Sunny  Medium   motorcycle   Metropolitian    \n",
       "4        13:45:00      Cloudy    High      scooter   Metropolitian    \n",
       "...           ...         ...      ...          ...             ...   \n",
       "43734    11:45:00       Windy    High   motorcycle   Metropolitian    \n",
       "43735    20:10:00       Windy     Jam   motorcycle   Metropolitian    \n",
       "43736    00:05:00      Cloudy     Low      scooter   Metropolitian    \n",
       "43737    13:40:00      Cloudy    High   motorcycle   Metropolitian    \n",
       "43738    17:15:00         Fog  Medium      scooter   Metropolitian    \n",
       "\n",
       "       Delivery_Time     Category  \n",
       "0                120     Clothing  \n",
       "1                165  Electronics  \n",
       "2                130       Sports  \n",
       "3                105    Cosmetics  \n",
       "4                150         Toys  \n",
       "...              ...          ...  \n",
       "43734            160         Home  \n",
       "43735            180      Jewelry  \n",
       "43736             80         Home  \n",
       "43737            130      Kitchen  \n",
       "43738            180    Cosmetics  \n",
       "\n",
       "[43739 rows x 16 columns]"
      ]
     },
     "execution_count": 9,
     "metadata": {},
     "output_type": "execute_result"
    }
   ],
   "source": [
    "df"
   ]
  },
  {
   "cell_type": "code",
   "execution_count": 10,
   "id": "ec96d3c4",
   "metadata": {},
   "outputs": [
    {
     "data": {
      "text/plain": [
       "Order_ID            0\n",
       "Agent_Age           0\n",
       "Agent_Rating       54\n",
       "Store_Latitude      0\n",
       "Store_Longitude     0\n",
       "Drop_Latitude       0\n",
       "Drop_Longitude      0\n",
       "Order_Date          0\n",
       "Order_Time          0\n",
       "Pickup_Time         0\n",
       "Weather            91\n",
       "Traffic             0\n",
       "Vehicle             0\n",
       "Area                0\n",
       "Delivery_Time       0\n",
       "Category            0\n",
       "dtype: int64"
      ]
     },
     "execution_count": 10,
     "metadata": {},
     "output_type": "execute_result"
    }
   ],
   "source": [
    "df.isnull().sum()"
   ]
  },
  {
   "cell_type": "code",
   "execution_count": 11,
   "id": "6442fd5f",
   "metadata": {},
   "outputs": [],
   "source": [
    "df = df.drop(['Order_ID','Agent_Age','Agent_Rating'],axis=1)"
   ]
  },
  {
   "cell_type": "code",
   "execution_count": 12,
   "id": "ece3fad7",
   "metadata": {},
   "outputs": [],
   "source": [
    "df['Weather'].fillna(df['Weather'].mode()[0], inplace=True)"
   ]
  },
  {
   "cell_type": "code",
   "execution_count": 13,
   "id": "4d4d5c98",
   "metadata": {},
   "outputs": [],
   "source": [
    "# Function to calculate distance for a row\n",
    "def calc_distance(row):\n",
    "    store_coords = (row['Store_Latitude'], row['Store_Longitude'])\n",
    "    drop_coords = (row['Drop_Latitude'], row['Drop_Longitude'])\n",
    "    return geodesic(store_coords, drop_coords).km\n",
    "\n",
    "# Apply to each row\n",
    "df['distance_km'] = df.apply(calc_distance, axis=1)"
   ]
  },
  {
   "cell_type": "code",
   "execution_count": 14,
   "id": "78cf9968",
   "metadata": {},
   "outputs": [
    {
     "name": "stderr",
     "output_type": "stream",
     "text": [
      "C:\\Users\\Dell\\AppData\\Local\\Temp\\ipykernel_4708\\3673912347.py:1: UserWarning: Could not infer format, so each element will be parsed individually, falling back to `dateutil`. To ensure parsing is consistent and as-expected, please specify a format.\n",
      "  df['Order_Time'] = pd.to_datetime(df['Order_Time'], errors='coerce')\n"
     ]
    }
   ],
   "source": [
    "df['Order_Time'] = pd.to_datetime(df['Order_Time'], errors='coerce')\n",
    "df['Hour'] = df['Order_Time'].dt.hour\n",
    "df['DayOfWeek'] = df['Order_Time'].dt.dayofweek"
   ]
  },
  {
   "cell_type": "code",
   "execution_count": 15,
   "id": "19be494e",
   "metadata": {},
   "outputs": [],
   "source": [
    "from sklearn.preprocessing import LabelEncoder\n",
    "\n",
    "\n",
    "cat = ['Weather', 'Traffic', 'Area' , 'Vehicle', 'Category']\n",
    "label_encoders = {}\n",
    "for col in cat:\n",
    "    le = LabelEncoder()\n",
    "    df[col] = le.fit_transform(df[col])\n",
    "    label_encoders[col] = le  # save encoders if needed for future use"
   ]
  },
  {
   "cell_type": "code",
   "execution_count": 16,
   "id": "0f1a4257",
   "metadata": {},
   "outputs": [],
   "source": [
    "from sklearn.preprocessing import StandardScaler\n",
    "\n",
    "\n",
    "num = df.select_dtypes(include=['int64', 'float64']).columns\n",
    "scaler = StandardScaler()\n",
    "df[num] = scaler.fit_transform(df[num])"
   ]
  },
  {
   "cell_type": "code",
   "execution_count": 17,
   "id": "75df7d0e",
   "metadata": {},
   "outputs": [],
   "source": [
    "X = df.drop('Delivery_Time', axis=1)\n",
    "y = df['Delivery_Time']"
   ]
  },
  {
   "cell_type": "code",
   "execution_count": 18,
   "id": "4545cf4d",
   "metadata": {},
   "outputs": [
    {
     "name": "stderr",
     "output_type": "stream",
     "text": [
      "C:\\Users\\Dell\\AppData\\Local\\Temp\\ipykernel_4708\\3239966890.py:3: UserWarning: Could not infer format, so each element will be parsed individually, falling back to `dateutil`. To ensure parsing is consistent and as-expected, please specify a format.\n",
      "  X[f'{col}_hour'] = pd.to_datetime(X[col]).dt.hour\n",
      "C:\\Users\\Dell\\AppData\\Local\\Temp\\ipykernel_4708\\3239966890.py:4: UserWarning: Could not infer format, so each element will be parsed individually, falling back to `dateutil`. To ensure parsing is consistent and as-expected, please specify a format.\n",
      "  X[f'{col}_dayofweek'] = pd.to_datetime(X[col]).dt.dayofweek\n",
      "C:\\Users\\Dell\\AppData\\Local\\Temp\\ipykernel_4708\\3239966890.py:7: UserWarning: Could not infer format, so each element will be parsed individually, falling back to `dateutil`. To ensure parsing is consistent and as-expected, please specify a format.\n",
      "  X['duration_minutes'] = (pd.to_datetime(df['Pickup_Time']) - pd.to_datetime(df['Order_Time'])).dt.total_seconds() / 60\n"
     ]
    }
   ],
   "source": [
    "# Example: convert datetime to numeric features\n",
    "for col in ['Order_Time', 'Pickup_Time']:\n",
    "    X[f'{col}_hour'] = pd.to_datetime(X[col]).dt.hour\n",
    "    X[f'{col}_dayofweek'] = pd.to_datetime(X[col]).dt.dayofweek\n",
    "    X = X.drop(columns=col)  # drop original datetime columns\n",
    "\n",
    "X['duration_minutes'] = (pd.to_datetime(df['Pickup_Time']) - pd.to_datetime(df['Order_Time'])).dt.total_seconds() / 60"
   ]
  },
  {
   "cell_type": "code",
   "execution_count": 19,
   "id": "c827ac3c",
   "metadata": {},
   "outputs": [],
   "source": [
    "X = X.drop(columns=X.select_dtypes(include='datetime64').columns)\n",
    "\n",
    "X.fillna(0, inplace=True)"
   ]
  },
  {
   "cell_type": "code",
   "execution_count": 20,
   "id": "86cb6ddc",
   "metadata": {},
   "outputs": [],
   "source": [
    "X.drop(columns=['Order_Date'], inplace=True)"
   ]
  },
  {
   "cell_type": "code",
   "execution_count": 21,
   "id": "92bd3f41",
   "metadata": {},
   "outputs": [],
   "source": [
    "# train-test split\n",
    "X_train, X_test, y_train, y_test = train_test_split(X, y, test_size=0.2, random_state=42)"
   ]
  },
  {
   "cell_type": "code",
   "execution_count": 22,
   "id": "52fdaf1a",
   "metadata": {},
   "outputs": [
    {
     "name": "stdout",
     "output_type": "stream",
     "text": [
      "\n",
      "Linear Regression Results:\n",
      "  RMSE: 0.93\n",
      "  MAE:  0.74\n",
      "  R²:   0.12\n",
      "\n",
      "Random Forest Results:\n",
      "  RMSE: 0.63\n",
      "  MAE:  0.49\n",
      "  R²:   0.60\n",
      "\n",
      "Gradient Boosting Results:\n",
      "  RMSE: 0.62\n",
      "  MAE:  0.48\n",
      "  R²:   0.62\n"
     ]
    }
   ],
   "source": [
    "from sklearn.linear_model import LinearRegression\n",
    "from sklearn.ensemble import RandomForestRegressor, GradientBoostingRegressor\n",
    "from sklearn.metrics import mean_squared_error, mean_absolute_error, r2_score\n",
    "import numpy as np\n",
    "\n",
    "models = {\n",
    "    'Linear Regression': LinearRegression(),\n",
    "    'Random Forest': RandomForestRegressor(random_state=42),\n",
    "    'Gradient Boosting': GradientBoostingRegressor(random_state=42)\n",
    "}\n",
    "\n",
    "\n",
    "\n",
    "for name, model in models.items():\n",
    "    model.fit(X_train, y_train)\n",
    "    preds = model.predict(X_test)\n",
    "\n",
    "    rmse = np.sqrt(mean_squared_error(y_test, preds))\n",
    "    mae = mean_absolute_error(y_test, preds)\n",
    "    r2 = r2_score(y_test, preds)\n",
    "\n",
    "    print(f\"\\n{name} Results:\")\n",
    "    print(f\"  RMSE: {rmse:.2f}\")\n",
    "    print(f\"  MAE:  {mae:.2f}\")\n",
    "    print(f\"  R²:   {r2:.2f}\")"
   ]
  },
  {
   "cell_type": "code",
   "execution_count": 23,
   "id": "1b63f5b1",
   "metadata": {},
   "outputs": [
    {
     "data": {
      "text/html": [
       "<div>\n",
       "<style scoped>\n",
       "    .dataframe tbody tr th:only-of-type {\n",
       "        vertical-align: middle;\n",
       "    }\n",
       "\n",
       "    .dataframe tbody tr th {\n",
       "        vertical-align: top;\n",
       "    }\n",
       "\n",
       "    .dataframe thead th {\n",
       "        text-align: right;\n",
       "    }\n",
       "</style>\n",
       "<table border=\"1\" class=\"dataframe\">\n",
       "  <thead>\n",
       "    <tr style=\"text-align: right;\">\n",
       "      <th></th>\n",
       "      <th>Model</th>\n",
       "      <th>RMSE</th>\n",
       "      <th>MAE</th>\n",
       "      <th>R²</th>\n",
       "    </tr>\n",
       "  </thead>\n",
       "  <tbody>\n",
       "    <tr>\n",
       "      <th>0</th>\n",
       "      <td>Linear Regression</td>\n",
       "      <td>0.931115</td>\n",
       "      <td>0.742048</td>\n",
       "      <td>0.122866</td>\n",
       "    </tr>\n",
       "    <tr>\n",
       "      <th>1</th>\n",
       "      <td>Random Forest</td>\n",
       "      <td>0.630681</td>\n",
       "      <td>0.486220</td>\n",
       "      <td>0.597580</td>\n",
       "    </tr>\n",
       "    <tr>\n",
       "      <th>2</th>\n",
       "      <td>Gradient Boosting</td>\n",
       "      <td>0.616567</td>\n",
       "      <td>0.484225</td>\n",
       "      <td>0.615391</td>\n",
       "    </tr>\n",
       "  </tbody>\n",
       "</table>\n",
       "</div>"
      ],
      "text/plain": [
       "               Model      RMSE       MAE        R²\n",
       "0  Linear Regression  0.931115  0.742048  0.122866\n",
       "1      Random Forest  0.630681  0.486220  0.597580\n",
       "2  Gradient Boosting  0.616567  0.484225  0.615391"
      ]
     },
     "execution_count": 23,
     "metadata": {},
     "output_type": "execute_result"
    }
   ],
   "source": [
    "results = []\n",
    "\n",
    "for name, model in models.items():\n",
    "    model.fit(X_train, y_train)\n",
    "    preds = model.predict(X_test)\n",
    "\n",
    "    rmse = np.sqrt(mean_squared_error(y_test, preds))\n",
    "    mae = mean_absolute_error(y_test, preds)\n",
    "    r2 = r2_score(y_test, preds)\n",
    "\n",
    "    results.append({'Model': name, 'RMSE': rmse, 'MAE': mae, 'R²': r2})\n",
    "\n",
    "# Display in DataFrame\n",
    "results_df = pd.DataFrame(results)\n",
    "results_df"
   ]
  },
  {
   "cell_type": "code",
   "execution_count": 25,
   "id": "5122c205",
   "metadata": {},
   "outputs": [
    {
     "data": {
      "image/png": "[encoded data removed]",
      "text/plain": [
       "<Figure size 800x500 with 1 Axes>"
      ]
     },
     "metadata": {},
     "output_type": "display_data"
    }
   ],
   "source": [
    "import matplotlib.pyplot as plt\n",
    "\n",
    "# Example using the best model (choose the one you prefer)\n",
    "best_model = models['Linear Regression']  # or 'Random Forest'\n",
    "preds = best_model.predict(X_test)\n",
    "\n",
    "plt.figure(figsize=(8, 5))\n",
    "plt.scatter(y_test, preds, alpha=0.5)\n",
    "plt.plot([y_test.min(), y_test.max()], [y_test.min(), y_test.max()], '--r')\n",
    "plt.xlabel(\"Actual\")\n",
    "plt.ylabel(\"Predicted\")\n",
    "plt.title(\"Predicted vs Actual\")\n",
    "plt.grid(True)\n",
    "plt.show()"
   ]
  },
  {
   "cell_type": "code",
   "execution_count": 26,
   "id": "11d4f69b",
   "metadata": {},
   "outputs": [
    {
     "data": {
      "text/plain": [
       "['best_model.pkl']"
      ]
     },
     "execution_count": 26,
     "metadata": {},
     "output_type": "execute_result"
    }
   ],
   "source": [
    "import joblib\n",
    "joblib.dump(best_model, 'best_model.pkl')"
   ]
  },
  {
   "cell_type": "code",
   "execution_count": 27,
   "id": "a11d1553",
   "metadata": {},
   "outputs": [
    {
     "data": {
      "text/plain": [
       "['Store_Latitude',\n",
       " 'Store_Longitude',\n",
       " 'Drop_Latitude',\n",
       " 'Drop_Longitude',\n",
       " 'Weather',\n",
       " 'Traffic',\n",
       " 'Vehicle',\n",
       " 'Area',\n",
       " 'Category',\n",
       " 'distance_km',\n",
       " 'Hour',\n",
       " 'DayOfWeek',\n",
       " 'Order_Time_hour',\n",
       " 'Order_Time_dayofweek',\n",
       " 'Pickup_Time_hour',\n",
       " 'Pickup_Time_dayofweek',\n",
       " 'duration_minutes']"
      ]
     },
     "execution_count": 27,
     "metadata": {},
     "output_type": "execute_result"
    }
   ],
   "source": [
    "X_train.columns.tolist()"
   ]
  },
  {
   "cell_type": "code",
   "execution_count": 34,
   "id": "99d8bae5",
   "metadata": {},
   "outputs": [],
   "source": [
    "X = X_train[['Category', 'Area', 'Order_Time_hour', 'Order_Time_dayofweek', 'distance_km']]\n",
    "y = y_train\n",
    "\n",
    "model = LinearRegression().fit(X, y)\n"
   ]
  },
  {
   "cell_type": "code",
   "execution_count": 35,
   "id": "1c4b735a",
   "metadata": {},
   "outputs": [
    {
     "data": {
      "text/plain": [
       "['model.pkl']"
      ]
     },
     "execution_count": 35,
     "metadata": {},
     "output_type": "execute_result"
    }
   ],
   "source": [
    "import joblib\n",
    "joblib.dump(model, 'model.pkl')"
   ]
  }
 ],
 "metadata": {
  "kernelspec": {
   "display_name": "base",
   "language": "python",
   "name": "python3"
  },
  "language_info": {
   "codemirror_mode": {
    "name": "ipython",
    "version": 3
   },
   "file_extension": ".py",
   "mimetype": "text/x-python",
   "name": "python",
   "nbconvert_exporter": "python",
   "pygments_lexer": "ipython3",
   "version": "3.11.5"
  }
 },
 "nbformat": 4,
 "nbformat_minor": 5
}
